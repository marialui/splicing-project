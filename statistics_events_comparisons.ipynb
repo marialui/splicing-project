{
 "cells": [
  {
   "cell_type": "code",
   "execution_count": 1,
   "id": "a93fa295",
   "metadata": {},
   "outputs": [],
   "source": [
    "bamy_ctr='A'+r'$\\beta$'+'   vs    CTR'\n",
    "cbn20='CBNR20+'+'A'+r'$\\beta$'+'   vs   '+'A'+r'$\\beta$'"
   ]
  },
  {
   "cell_type": "code",
   "execution_count": 2,
   "id": "7b941d82",
   "metadata": {},
   "outputs": [],
   "source": [
    "import pandas as pd\n",
    "\n",
    "# Define columns and indices\n",
    "columns = ['A3SS', 'RI', 'A5SS', 'MXE', 'SE']\n",
    "indices = [bamy_ctr, cbn20,'Shared']\n",
    "\n",
    "# Create an empty DataFrame\n",
    "data = pd.DataFrame(columns=columns, index=indices)\n",
    "\n",
    "# Display the DataFrame\n",
    "data2=pd.DataFrame(index=indices)"
   ]
  },
  {
   "cell_type": "code",
   "execution_count": 3,
   "id": "d5de67e0",
   "metadata": {},
   "outputs": [],
   "source": [
    "common_sig='../common_SIG-splicing_events.txt'\n",
    "bAmy_sig='../splicing_events_bAmy_VS_CTR.txt'\n",
    "CBNR20_sig='../splicing_events_CBNR20-bAmy-vs-bAmy.txt'\n",
    "df_bamy_ctr=pd.read_csv(bAmy_sig,sep='\\t')\n",
    "df_cbn20=pd.read_csv(CBNR20_sig,sep='\\t')\n",
    "df_common=pd.read_csv(common_sig,sep='\\t')\n",
    "for e in columns:\n",
    "    n_bamy_ctr=df_bamy_ctr[df_bamy_ctr['Class']==e].shape[0]\n",
    "    n_cbn20=df_cbn20[df_cbn20['Class']==e].shape[0]\n",
    "    n_common=df_common[df_common['Class']==e].shape[0]\n",
    "    data.at[bamy_ctr,e]=n_bamy_ctr\n",
    "    data.at[cbn20,e]=n_cbn20\n",
    "    data.at['Shared',e]=n_common"
   ]
  },
  {
   "cell_type": "code",
   "execution_count": 4,
   "id": "59a97b82",
   "metadata": {},
   "outputs": [
    {
     "data": {
      "text/html": [
       "<div>\n",
       "<style scoped>\n",
       "    .dataframe tbody tr th:only-of-type {\n",
       "        vertical-align: middle;\n",
       "    }\n",
       "\n",
       "    .dataframe tbody tr th {\n",
       "        vertical-align: top;\n",
       "    }\n",
       "\n",
       "    .dataframe thead th {\n",
       "        text-align: right;\n",
       "    }\n",
       "</style>\n",
       "<table border=\"1\" class=\"dataframe\">\n",
       "  <thead>\n",
       "    <tr style=\"text-align: right;\">\n",
       "      <th></th>\n",
       "      <th>A3SS</th>\n",
       "      <th>RI</th>\n",
       "      <th>A5SS</th>\n",
       "      <th>MXE</th>\n",
       "      <th>SE</th>\n",
       "    </tr>\n",
       "  </thead>\n",
       "  <tbody>\n",
       "    <tr>\n",
       "      <th>A$\\beta$   vs    CTR</th>\n",
       "      <td>76</td>\n",
       "      <td>87</td>\n",
       "      <td>32</td>\n",
       "      <td>52</td>\n",
       "      <td>265</td>\n",
       "    </tr>\n",
       "    <tr>\n",
       "      <th>CBNR20+A$\\beta$   vs   A$\\beta$</th>\n",
       "      <td>72</td>\n",
       "      <td>71</td>\n",
       "      <td>53</td>\n",
       "      <td>47</td>\n",
       "      <td>285</td>\n",
       "    </tr>\n",
       "    <tr>\n",
       "      <th>Shared</th>\n",
       "      <td>12</td>\n",
       "      <td>15</td>\n",
       "      <td>7</td>\n",
       "      <td>4</td>\n",
       "      <td>58</td>\n",
       "    </tr>\n",
       "  </tbody>\n",
       "</table>\n",
       "</div>"
      ],
      "text/plain": [
       "                                A3SS  RI A5SS MXE   SE\n",
       "A$\\beta$   vs    CTR              76  87   32  52  265\n",
       "CBNR20+A$\\beta$   vs   A$\\beta$   72  71   53  47  285\n",
       "Shared                            12  15    7   4   58"
      ]
     },
     "execution_count": 4,
     "metadata": {},
     "output_type": "execute_result"
    }
   ],
   "source": [
    "data"
   ]
  },
  {
   "cell_type": "code",
   "execution_count": 5,
   "id": "66820829",
   "metadata": {},
   "outputs": [
    {
     "data": {
      "text/html": [
       "<div>\n",
       "<style scoped>\n",
       "    .dataframe tbody tr th:only-of-type {\n",
       "        vertical-align: middle;\n",
       "    }\n",
       "\n",
       "    .dataframe tbody tr th {\n",
       "        vertical-align: top;\n",
       "    }\n",
       "\n",
       "    .dataframe thead th {\n",
       "        text-align: right;\n",
       "    }\n",
       "</style>\n",
       "<table border=\"1\" class=\"dataframe\">\n",
       "  <thead>\n",
       "    <tr style=\"text-align: right;\">\n",
       "      <th></th>\n",
       "    </tr>\n",
       "  </thead>\n",
       "  <tbody>\n",
       "    <tr>\n",
       "      <th>A$\\beta$   vs    CTR</th>\n",
       "    </tr>\n",
       "    <tr>\n",
       "      <th>CBNR20+A$\\beta$   vs   A$\\beta$</th>\n",
       "    </tr>\n",
       "    <tr>\n",
       "      <th>Shared</th>\n",
       "    </tr>\n",
       "  </tbody>\n",
       "</table>\n",
       "</div>"
      ],
      "text/plain": [
       "Empty DataFrame\n",
       "Columns: []\n",
       "Index: [A$\\beta$   vs    CTR, CBNR20+A$\\beta$   vs   A$\\beta$, Shared]"
      ]
     },
     "execution_count": 5,
     "metadata": {},
     "output_type": "execute_result"
    }
   ],
   "source": [
    "data2"
   ]
  },
  {
   "cell_type": "code",
   "execution_count": 6,
   "id": "11d0664f",
   "metadata": {},
   "outputs": [],
   "source": [
    "# Filtering based on 'DE-NOVO' column for all 3 DataFrames\n",
    "df_bamy_ctr = df_bamy_ctr[df_bamy_ctr['DE-NOVO']]\n",
    "df_cbn20 = df_cbn20[df_cbn20['DE-NOVO']]\n",
    "df_common = df_common[df_common['DE-NOVO']]\n",
    "\n",
    "# Processing the data\n",
    "for e in columns:\n",
    "    n_bamy_ctr = df_bamy_ctr[df_bamy_ctr['Class'] == e].shape[0]\n",
    "    n_cbn20 = df_cbn20[df_cbn20['Class'] == e].shape[0]\n",
    "    n_common = df_common[df_common['Class'] == e].shape[0]\n",
    "    \n",
    "    # Add \"De-Novo\" suffix to each column\n",
    "    de_novo_col_name = f\"{e}_De-Novo\"\n",
    "    \n",
    "    # Storing the counts in the DataFrame with the modified column names\n",
    "    data2.at[bamy_ctr, de_novo_col_name] = n_bamy_ctr\n",
    "    data2.at[cbn20, de_novo_col_name] = n_cbn20\n",
    "    data2.at['Shared', de_novo_col_name] = n_common"
   ]
  },
  {
   "cell_type": "code",
   "execution_count": 7,
   "id": "b8b7cfb0",
   "metadata": {},
   "outputs": [
    {
     "data": {
      "text/html": [
       "<div>\n",
       "<style scoped>\n",
       "    .dataframe tbody tr th:only-of-type {\n",
       "        vertical-align: middle;\n",
       "    }\n",
       "\n",
       "    .dataframe tbody tr th {\n",
       "        vertical-align: top;\n",
       "    }\n",
       "\n",
       "    .dataframe thead th {\n",
       "        text-align: right;\n",
       "    }\n",
       "</style>\n",
       "<table border=\"1\" class=\"dataframe\">\n",
       "  <thead>\n",
       "    <tr style=\"text-align: right;\">\n",
       "      <th></th>\n",
       "      <th>A3SS_De-Novo</th>\n",
       "      <th>RI_De-Novo</th>\n",
       "      <th>A5SS_De-Novo</th>\n",
       "      <th>MXE_De-Novo</th>\n",
       "      <th>SE_De-Novo</th>\n",
       "    </tr>\n",
       "  </thead>\n",
       "  <tbody>\n",
       "    <tr>\n",
       "      <th>A$\\beta$   vs    CTR</th>\n",
       "      <td>32.0</td>\n",
       "      <td>16.0</td>\n",
       "      <td>15.0</td>\n",
       "      <td>7.0</td>\n",
       "      <td>25.0</td>\n",
       "    </tr>\n",
       "    <tr>\n",
       "      <th>CBNR20+A$\\beta$   vs   A$\\beta$</th>\n",
       "      <td>23.0</td>\n",
       "      <td>18.0</td>\n",
       "      <td>18.0</td>\n",
       "      <td>2.0</td>\n",
       "      <td>23.0</td>\n",
       "    </tr>\n",
       "    <tr>\n",
       "      <th>Shared</th>\n",
       "      <td>3.0</td>\n",
       "      <td>4.0</td>\n",
       "      <td>3.0</td>\n",
       "      <td>0.0</td>\n",
       "      <td>4.0</td>\n",
       "    </tr>\n",
       "  </tbody>\n",
       "</table>\n",
       "</div>"
      ],
      "text/plain": [
       "                                 A3SS_De-Novo  RI_De-Novo  A5SS_De-Novo  \\\n",
       "A$\\beta$   vs    CTR                     32.0        16.0          15.0   \n",
       "CBNR20+A$\\beta$   vs   A$\\beta$          23.0        18.0          18.0   \n",
       "Shared                                    3.0         4.0           3.0   \n",
       "\n",
       "                                 MXE_De-Novo  SE_De-Novo  \n",
       "A$\\beta$   vs    CTR                     7.0        25.0  \n",
       "CBNR20+A$\\beta$   vs   A$\\beta$          2.0        23.0  \n",
       "Shared                                   0.0         4.0  "
      ]
     },
     "execution_count": 7,
     "metadata": {},
     "output_type": "execute_result"
    }
   ],
   "source": [
    "data2"
   ]
  },
  {
   "cell_type": "code",
   "execution_count": null,
   "id": "e64c6e77",
   "metadata": {},
   "outputs": [],
   "source": []
  }
 ],
 "metadata": {
  "kernelspec": {
   "display_name": "Python 3 (ipykernel)",
   "language": "python",
   "name": "python3"
  },
  "language_info": {
   "codemirror_mode": {
    "name": "ipython",
    "version": 3
   },
   "file_extension": ".py",
   "mimetype": "text/x-python",
   "name": "python",
   "nbconvert_exporter": "python",
   "pygments_lexer": "ipython3",
   "version": "3.9.12"
  }
 },
 "nbformat": 4,
 "nbformat_minor": 5
}
