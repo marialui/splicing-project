{
 "cells": [
  {
   "cell_type": "code",
   "execution_count": 1,
   "id": "45f787cc",
   "metadata": {},
   "outputs": [],
   "source": [
    "import pandas as pd"
   ]
  },
  {
   "cell_type": "code",
   "execution_count": 2,
   "id": "5e3309bd",
   "metadata": {},
   "outputs": [],
   "source": [
    "#!ls ../"
   ]
  },
  {
   "cell_type": "code",
   "execution_count": 3,
   "id": "8d1b2e8e",
   "metadata": {},
   "outputs": [
    {
     "name": "stdout",
     "output_type": "stream",
     "text": [
      "mkdir: cannot create directory ‘A3SS’: File exists\r\n",
      "mkdir: cannot create directory ‘A5SS’: File exists\r\n",
      "mkdir: cannot create directory ‘MXE’: File exists\r\n",
      "mkdir: cannot create directory ‘RI’: File exists\r\n",
      "mkdir: cannot create directory ‘SE’: File exists\r\n"
     ]
    }
   ],
   "source": [
    "!mkdir A3SS A5SS MXE RI SE"
   ]
  },
  {
   "cell_type": "code",
   "execution_count": 4,
   "id": "2f1e0ec8",
   "metadata": {},
   "outputs": [],
   "source": [
    "comp1='../24_09_2024_DENOVO-output_rMATS_bAmy-vs-CTR/'\n",
    "comp2='../24_09_2024_DENOVO-output_rMATS_CBNR20-bAmy-vs-bAmy/'"
   ]
  },
  {
   "cell_type": "code",
   "execution_count": 5,
   "id": "2ad38626",
   "metadata": {},
   "outputs": [],
   "source": [
    "LIST_EVENTS=['A3SS', 'A5SS','MXE', 'RI', 'SE']"
   ]
  },
  {
   "cell_type": "code",
   "execution_count": 6,
   "id": "3768703d",
   "metadata": {},
   "outputs": [],
   "source": [
    "def calculate_average(row):\n",
    "    ijc1 = list(map(int, row['IJC_SAMPLE_1'].split(',')))\n",
    "    sjc1 = list(map(int, row['SJC_SAMPLE_1'].split(',')))\n",
    "    ijc2 = list(map(int, row['IJC_SAMPLE_2'].split(',')))\n",
    "    sjc2 = list(map(int, row['SJC_SAMPLE_2'].split(',')))\n",
    "    all_values = ijc1 + sjc1 + ijc2 + sjc2\n",
    "    return sum(all_values) / len(all_values)\n"
   ]
  },
  {
   "cell_type": "code",
   "execution_count": 7,
   "id": "b85faa7d",
   "metadata": {},
   "outputs": [
    {
     "name": "stdout",
     "output_type": "stream",
     "text": [
      "A3SS Index(['ID', 'GeneID', 'geneSymbol', 'chr', 'strand', 'longExonStart_0base',\n",
      "       'longExonEnd', 'shortES', 'shortEE', 'flankingES', 'flankingEE', 'ID.1',\n",
      "       'IJC_SAMPLE_1', 'SJC_SAMPLE_1', 'IJC_SAMPLE_2', 'SJC_SAMPLE_2',\n",
      "       'IncFormLen', 'SkipFormLen', 'PValue', 'FDR', 'IncLevel1', 'IncLevel2',\n",
      "       'IncLevelDifference', 'Mean coverage'],\n",
      "      dtype='object')\n",
      "(76, 24) (12159, 24)\n",
      "A5SS Index(['ID', 'GeneID', 'geneSymbol', 'chr', 'strand', 'longExonStart_0base',\n",
      "       'longExonEnd', 'shortES', 'shortEE', 'flankingES', 'flankingEE', 'ID.1',\n",
      "       'IJC_SAMPLE_1', 'SJC_SAMPLE_1', 'IJC_SAMPLE_2', 'SJC_SAMPLE_2',\n",
      "       'IncFormLen', 'SkipFormLen', 'PValue', 'FDR', 'IncLevel1', 'IncLevel2',\n",
      "       'IncLevelDifference', 'Mean coverage'],\n",
      "      dtype='object')\n",
      "(32, 24) (7827, 24)\n",
      "MXE Index(['ID', 'GeneID', 'geneSymbol', 'chr', 'strand', '1stExonStart_0base',\n",
      "       '1stExonEnd', '2ndExonStart_0base', '2ndExonEnd', 'upstreamES',\n",
      "       'upstreamEE', 'downstreamES', 'downstreamEE', 'ID.1', 'IJC_SAMPLE_1',\n",
      "       'SJC_SAMPLE_1', 'IJC_SAMPLE_2', 'SJC_SAMPLE_2', 'IncFormLen',\n",
      "       'SkipFormLen', 'PValue', 'FDR', 'IncLevel1', 'IncLevel2',\n",
      "       'IncLevelDifference', 'Mean coverage'],\n",
      "      dtype='object')\n",
      "(52, 26) (3955, 26)\n",
      "RI Index(['ID', 'GeneID', 'geneSymbol', 'chr', 'strand', 'riExonStart_0base',\n",
      "       'riExonEnd', 'upstreamES', 'upstreamEE', 'downstreamES', 'downstreamEE',\n",
      "       'ID.1', 'IJC_SAMPLE_1', 'SJC_SAMPLE_1', 'IJC_SAMPLE_2', 'SJC_SAMPLE_2',\n",
      "       'IncFormLen', 'SkipFormLen', 'PValue', 'FDR', 'IncLevel1', 'IncLevel2',\n",
      "       'IncLevelDifference', 'Mean coverage'],\n",
      "      dtype='object')\n",
      "(87, 24) (7030, 24)\n",
      "SE Index(['ID', 'GeneID', 'geneSymbol', 'chr', 'strand', 'exonStart_0base',\n",
      "       'exonEnd', 'upstreamES', 'upstreamEE', 'downstreamES', 'downstreamEE',\n",
      "       'ID.1', 'IJC_SAMPLE_1', 'SJC_SAMPLE_1', 'IJC_SAMPLE_2', 'SJC_SAMPLE_2',\n",
      "       'IncFormLen', 'SkipFormLen', 'PValue', 'FDR', 'IncLevel1', 'IncLevel2',\n",
      "       'IncLevelDifference', 'Mean coverage'],\n",
      "      dtype='object')\n",
      "(265, 24) (30076, 24)\n"
     ]
    }
   ],
   "source": [
    "for ae in LIST_EVENTS:\n",
    "    bAmy_VS_CTR=pd.read_csv(comp1+'%s.MATS.JC.txt' %(ae),sep='\\t')\n",
    "    # Apply the function to each row\n",
    "    bAmy_VS_CTR['Mean coverage'] = bAmy_VS_CTR.apply(calculate_average, axis=1)\n",
    "    original_bAmy_VS_CTR=bAmy_VS_CTR\n",
    "    print(ae, bAmy_VS_CTR.columns)\n",
    "    bAmy_VS_CTR=bAmy_VS_CTR[bAmy_VS_CTR['FDR'] < 0.05]\n",
    "    bAmy_VS_CTR = bAmy_VS_CTR[(bAmy_VS_CTR['IncLevelDifference'] > 0.1) | (bAmy_VS_CTR['IncLevelDifference'] < -0.1)]\n",
    "    bAmy_VS_CTR=bAmy_VS_CTR[bAmy_VS_CTR['Mean coverage'] >5]\n",
    "    bAmy_VS_CTR.to_csv('%s/DE_novo_SIG-bAmy_VS_CTR-%s-JC.txt'%(ae,ae),sep='\\t')\n",
    "    print(bAmy_VS_CTR.shape,original_bAmy_VS_CTR.shape)\n",
    "    diff_df_bAmy_VS_CTR = original_bAmy_VS_CTR.merge(bAmy_VS_CTR, how='left', indicator=True)\n",
    "    # Select rows that are only present in original_bAmy_VS_CTR\n",
    "    not_sig_bAmy_VS_CTR = diff_df_bAmy_VS_CTR[diff_df_bAmy_VS_CTR['_merge'] == 'left_only'].drop(columns=['_merge'])\n",
    "    not_sig_bAmy_VS_CTR.to_csv('%s/DE_novo_NOT-SIG-bAmy_VS_CTR-%s-JC.txt'%(ae,ae),sep='\\t')"
   ]
  },
  {
   "cell_type": "code",
   "execution_count": 8,
   "id": "67299745",
   "metadata": {},
   "outputs": [
    {
     "name": "stdout",
     "output_type": "stream",
     "text": [
      "A3SS Index(['ID', 'GeneID', 'geneSymbol', 'chr', 'strand', 'longExonStart_0base',\n",
      "       'longExonEnd', 'shortES', 'shortEE', 'flankingES', 'flankingEE', 'ID.1',\n",
      "       'IJC_SAMPLE_1', 'SJC_SAMPLE_1', 'IJC_SAMPLE_2', 'SJC_SAMPLE_2',\n",
      "       'IncFormLen', 'SkipFormLen', 'PValue', 'FDR', 'IncLevel1', 'IncLevel2',\n",
      "       'IncLevelDifference', 'Mean coverage'],\n",
      "      dtype='object')\n",
      "(72, 24) (11208, 24)\n",
      "A5SS Index(['ID', 'GeneID', 'geneSymbol', 'chr', 'strand', 'longExonStart_0base',\n",
      "       'longExonEnd', 'shortES', 'shortEE', 'flankingES', 'flankingEE', 'ID.1',\n",
      "       'IJC_SAMPLE_1', 'SJC_SAMPLE_1', 'IJC_SAMPLE_2', 'SJC_SAMPLE_2',\n",
      "       'IncFormLen', 'SkipFormLen', 'PValue', 'FDR', 'IncLevel1', 'IncLevel2',\n",
      "       'IncLevelDifference', 'Mean coverage'],\n",
      "      dtype='object')\n",
      "(53, 24) (7230, 24)\n",
      "MXE Index(['ID', 'GeneID', 'geneSymbol', 'chr', 'strand', '1stExonStart_0base',\n",
      "       '1stExonEnd', '2ndExonStart_0base', '2ndExonEnd', 'upstreamES',\n",
      "       'upstreamEE', 'downstreamES', 'downstreamEE', 'ID.1', 'IJC_SAMPLE_1',\n",
      "       'SJC_SAMPLE_1', 'IJC_SAMPLE_2', 'SJC_SAMPLE_2', 'IncFormLen',\n",
      "       'SkipFormLen', 'PValue', 'FDR', 'IncLevel1', 'IncLevel2',\n",
      "       'IncLevelDifference', 'Mean coverage'],\n",
      "      dtype='object')\n",
      "(47, 26) (3515, 26)\n",
      "RI Index(['ID', 'GeneID', 'geneSymbol', 'chr', 'strand', 'riExonStart_0base',\n",
      "       'riExonEnd', 'upstreamES', 'upstreamEE', 'downstreamES', 'downstreamEE',\n",
      "       'ID.1', 'IJC_SAMPLE_1', 'SJC_SAMPLE_1', 'IJC_SAMPLE_2', 'SJC_SAMPLE_2',\n",
      "       'IncFormLen', 'SkipFormLen', 'PValue', 'FDR', 'IncLevel1', 'IncLevel2',\n",
      "       'IncLevelDifference', 'Mean coverage'],\n",
      "      dtype='object')\n",
      "(71, 24) (6654, 24)\n",
      "SE Index(['ID', 'GeneID', 'geneSymbol', 'chr', 'strand', 'exonStart_0base',\n",
      "       'exonEnd', 'upstreamES', 'upstreamEE', 'downstreamES', 'downstreamEE',\n",
      "       'ID.1', 'IJC_SAMPLE_1', 'SJC_SAMPLE_1', 'IJC_SAMPLE_2', 'SJC_SAMPLE_2',\n",
      "       'IncFormLen', 'SkipFormLen', 'PValue', 'FDR', 'IncLevel1', 'IncLevel2',\n",
      "       'IncLevelDifference', 'Mean coverage'],\n",
      "      dtype='object')\n",
      "(285, 24) (27638, 24)\n"
     ]
    }
   ],
   "source": [
    "for ae in LIST_EVENTS:\n",
    "    CBNR20_VS_bAmy=pd.read_csv(comp2+'%s.MATS.JC.txt' %(ae),sep='\\t')\n",
    "    # Apply the function to each row\n",
    "    CBNR20_VS_bAmy['Mean coverage'] = CBNR20_VS_bAmy.apply(calculate_average, axis=1)\n",
    "    original_CBNR20_VS_bAmy=CBNR20_VS_bAmy\n",
    "    print(ae, CBNR20_VS_bAmy.columns)\n",
    "    CBNR20_VS_bAmy=CBNR20_VS_bAmy[CBNR20_VS_bAmy['FDR'] < 0.05]\n",
    "    CBNR20_VS_bAmy = CBNR20_VS_bAmy[(CBNR20_VS_bAmy['IncLevelDifference'] > 0.1) | (CBNR20_VS_bAmy['IncLevelDifference'] < -0.1)]\n",
    "    CBNR20_VS_bAmy=CBNR20_VS_bAmy[CBNR20_VS_bAmy['Mean coverage'] >5]\n",
    "    CBNR20_VS_bAmy.to_csv('%s/DE_novo_SIG-CBNR20-bAmy-vs-bAmy-%s-JC.txt'%(ae,ae),sep='\\t')\n",
    "    print(CBNR20_VS_bAmy.shape,original_CBNR20_VS_bAmy.shape)\n",
    "    diff_df_CBNR20_VS_bAmy = original_CBNR20_VS_bAmy.merge(CBNR20_VS_bAmy, how='left', indicator=True)\n",
    "    # Select rows that are only present in original_bAmy_VS_CTR\n",
    "    not_sig_CBNR20_VS_bAmy = diff_df_CBNR20_VS_bAmy[diff_df_CBNR20_VS_bAmy['_merge'] == 'left_only'].drop(columns=['_merge'])\n",
    "    not_sig_CBNR20_VS_bAmy.to_csv('%s/DE_novo_NOT-SIG-CBNR20-bAmy-vs-bAmy-%s-JC.txt'%(ae,ae),sep='\\t')"
   ]
  }
 ],
 "metadata": {
  "kernelspec": {
   "display_name": "Python 3 (ipykernel)",
   "language": "python",
   "name": "python3"
  },
  "language_info": {
   "codemirror_mode": {
    "name": "ipython",
    "version": 3
   },
   "file_extension": ".py",
   "mimetype": "text/x-python",
   "name": "python",
   "nbconvert_exporter": "python",
   "pygments_lexer": "ipython3",
   "version": "3.9.12"
  }
 },
 "nbformat": 4,
 "nbformat_minor": 5
}
