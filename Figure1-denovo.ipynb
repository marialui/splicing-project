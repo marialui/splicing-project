{
 "cells": [
  {
   "cell_type": "markdown",
   "id": "c3444d08",
   "metadata": {},
   "source": [
    "Figura 2: grafico descrittivo dell'output di rMATS per ogni confronto. Quindi far vedere totale eventi sign e loro proporzioni (mettere a confronto i due comparisons?).\n",
    "Mettere in risalto (forse conviene un grafico a parte) gli 85 ASEs condivisi e il loro deltaPSI (far capire che sono tutti opposti)."
   ]
  },
  {
   "cell_type": "code",
   "execution_count": 1,
   "id": "a557208b",
   "metadata": {},
   "outputs": [],
   "source": [
    "import pandas as pd"
   ]
  },
  {
   "cell_type": "code",
   "execution_count": 2,
   "id": "8d535708",
   "metadata": {},
   "outputs": [],
   "source": [
    "common_sig='common_SIG-splicing_events.txt'\n",
    "bAmy_sig='splicing_events_bAmy_VS_CTR.txt'\n",
    "CBNR20_sig='splicing_events_CBNR20-bAmy-vs-bAmy.txt'\n",
    "common_not_sig='common_NOT-SIG-splicing_events.txt'\n",
    "bAmy_not_sig='NOT-SIG-splicing_events_bAmy_VS_CTR.txt'\n",
    "CBNR20_not_sig='NOT-SIG-splicing_events_CBNR20-bAmy-vs-bAmy.txt'"
   ]
  },
  {
   "cell_type": "code",
   "execution_count": 3,
   "id": "87298fb7",
   "metadata": {},
   "outputs": [
    {
     "name": "stdout",
     "output_type": "stream",
     "text": [
      "common_NOT-SIG-splicing_events.txt  common_SIG-splicing_events.txt\r\n"
     ]
    }
   ],
   "source": [
    "!ls common*txt"
   ]
  },
  {
   "cell_type": "code",
   "execution_count": 4,
   "id": "eaec1b7a",
   "metadata": {},
   "outputs": [],
   "source": [
    "events=['A3SS','A5SS','SE','MXE','RI']\n",
    "significance=['NS','S']\n",
    "comparisons=['bAmy','COMMON','CBNR20']\n",
    "stats_events= pd.DataFrame()"
   ]
  },
  {
   "cell_type": "code",
   "execution_count": 5,
   "id": "ff1ef5c2",
   "metadata": {},
   "outputs": [],
   "source": [
    "def getASE(significance,comparison,EV):\n",
    "    D={('NS','CBNR20'): CBNR20_not_sig,('NS','bAmy'):bAmy_not_sig ,('S','bAmy'):bAmy_sig,('S','CBNR20'):CBNR20_sig,('NS','COMMON'): common_not_sig,('S','COMMON'): common_sig}\n",
    "    file=D[(significance,comparison)]\n",
    "    df=pd.read_csv(file,sep='\\t')\n",
    "    df=df[df['Class']==EV]\n",
    "    df=df[df['DE-NOVO']]\n",
    "    # Extract unique rows based on the first 13 columns\n",
    "    unique_rows = df.iloc[:, :13].drop_duplicates()\n",
    "    # If you want to keep the entire DataFrame but ensure uniqueness based on the first 13 columns:\n",
    "    unique_rows_df = df.drop_duplicates(subset=df.columns[:13])\n",
    "    return unique_rows_df.shape[0]\n",
    "def getGenes(significance,comparison,EV):\n",
    "    D={('NS','CBNR20'): CBNR20_not_sig,('NS','bAmy'):bAmy_not_sig ,('S','bAmy'):bAmy_sig,('S','CBNR20'):CBNR20_sig,('NS','COMMON'): common_not_sig,('S','COMMON'): common_sig}\n",
    "    file=D[(significance,comparison)]\n",
    "    df=pd.read_csv(file,sep='\\t')\n",
    "    df=df[df['Class']==EV]\n",
    "    ngenes=len(df['GeneID'].unique())\n",
    "    return ngenes"
   ]
  },
  {
   "cell_type": "code",
   "execution_count": 6,
   "id": "f655d363",
   "metadata": {},
   "outputs": [
    {
     "data": {
      "text/plain": [
       "0"
      ]
     },
     "execution_count": 6,
     "metadata": {},
     "output_type": "execute_result"
    }
   ],
   "source": [
    "getASE('S','COMMON','MXE')"
   ]
  },
  {
   "cell_type": "code",
   "execution_count": 7,
   "id": "fbb9c5c6",
   "metadata": {},
   "outputs": [],
   "source": [
    "for e in events:\n",
    "    for s in significance:\n",
    "        for c in comparisons:\n",
    "            col_name=s+'-'+c\n",
    "            index=e\n",
    "            n=getASE(s,c,e)\n",
    "            stats_events.at[index,col_name]=n"
   ]
  },
  {
   "cell_type": "code",
   "execution_count": 8,
   "id": "e53791dd",
   "metadata": {},
   "outputs": [],
   "source": [
    "stats_events.index.name = 'ASE'"
   ]
  },
  {
   "cell_type": "code",
   "execution_count": 9,
   "id": "24a886a2",
   "metadata": {},
   "outputs": [
    {
     "data": {
      "text/plain": [
       "'ASE'"
      ]
     },
     "execution_count": 9,
     "metadata": {},
     "output_type": "execute_result"
    }
   ],
   "source": [
    "stats_events.index.name"
   ]
  },
  {
   "cell_type": "code",
   "execution_count": 10,
   "id": "985a92c9",
   "metadata": {},
   "outputs": [
    {
     "data": {
      "text/html": [
       "<div>\n",
       "<style scoped>\n",
       "    .dataframe tbody tr th:only-of-type {\n",
       "        vertical-align: middle;\n",
       "    }\n",
       "\n",
       "    .dataframe tbody tr th {\n",
       "        vertical-align: top;\n",
       "    }\n",
       "\n",
       "    .dataframe thead th {\n",
       "        text-align: right;\n",
       "    }\n",
       "</style>\n",
       "<table border=\"1\" class=\"dataframe\">\n",
       "  <thead>\n",
       "    <tr style=\"text-align: right;\">\n",
       "      <th></th>\n",
       "      <th>NS-bAmy</th>\n",
       "      <th>NS-COMMON</th>\n",
       "      <th>NS-CBNR20</th>\n",
       "      <th>S-bAmy</th>\n",
       "      <th>S-COMMON</th>\n",
       "      <th>S-CBNR20</th>\n",
       "    </tr>\n",
       "    <tr>\n",
       "      <th>ASE</th>\n",
       "      <th></th>\n",
       "      <th></th>\n",
       "      <th></th>\n",
       "      <th></th>\n",
       "      <th></th>\n",
       "      <th></th>\n",
       "    </tr>\n",
       "  </thead>\n",
       "  <tbody>\n",
       "    <tr>\n",
       "      <th>A3SS</th>\n",
       "      <td>6571.0</td>\n",
       "      <td>4240.0</td>\n",
       "      <td>5980.0</td>\n",
       "      <td>32.0</td>\n",
       "      <td>3.0</td>\n",
       "      <td>23.0</td>\n",
       "    </tr>\n",
       "    <tr>\n",
       "      <th>A5SS</th>\n",
       "      <td>4358.0</td>\n",
       "      <td>2815.0</td>\n",
       "      <td>3962.0</td>\n",
       "      <td>15.0</td>\n",
       "      <td>3.0</td>\n",
       "      <td>18.0</td>\n",
       "    </tr>\n",
       "    <tr>\n",
       "      <th>SE</th>\n",
       "      <td>4129.0</td>\n",
       "      <td>2345.0</td>\n",
       "      <td>3620.0</td>\n",
       "      <td>25.0</td>\n",
       "      <td>4.0</td>\n",
       "      <td>23.0</td>\n",
       "    </tr>\n",
       "    <tr>\n",
       "      <th>MXE</th>\n",
       "      <td>608.0</td>\n",
       "      <td>292.0</td>\n",
       "      <td>516.0</td>\n",
       "      <td>7.0</td>\n",
       "      <td>0.0</td>\n",
       "      <td>2.0</td>\n",
       "    </tr>\n",
       "    <tr>\n",
       "      <th>RI</th>\n",
       "      <td>2148.0</td>\n",
       "      <td>1330.0</td>\n",
       "      <td>1937.0</td>\n",
       "      <td>16.0</td>\n",
       "      <td>4.0</td>\n",
       "      <td>18.0</td>\n",
       "    </tr>\n",
       "  </tbody>\n",
       "</table>\n",
       "</div>"
      ],
      "text/plain": [
       "      NS-bAmy  NS-COMMON  NS-CBNR20  S-bAmy  S-COMMON  S-CBNR20\n",
       "ASE                                                            \n",
       "A3SS   6571.0     4240.0     5980.0    32.0       3.0      23.0\n",
       "A5SS   4358.0     2815.0     3962.0    15.0       3.0      18.0\n",
       "SE     4129.0     2345.0     3620.0    25.0       4.0      23.0\n",
       "MXE     608.0      292.0      516.0     7.0       0.0       2.0\n",
       "RI     2148.0     1330.0     1937.0    16.0       4.0      18.0"
      ]
     },
     "execution_count": 10,
     "metadata": {},
     "output_type": "execute_result"
    }
   ],
   "source": [
    "stats_events"
   ]
  },
  {
   "cell_type": "code",
   "execution_count": 11,
   "id": "ce4b5811",
   "metadata": {},
   "outputs": [],
   "source": [
    "stats_events['Not_Significant-bAmy_vs_CTR']=stats_events['NS-bAmy']-stats_events['NS-COMMON']\n",
    "stats_events['Not_Significant-CBNR20_vs_bAmy']=stats_events['NS-CBNR20']-stats_events['NS-COMMON']\n",
    "stats_events['Not_Significant-Common']=stats_events['NS-COMMON']\n",
    "stats_events['Not_Significant-Total']=stats_events['NS-bAmy']+stats_events['NS-CBNR20']-stats_events['NS-COMMON']\n",
    "stats_events['A'+r'$\\beta$'+'   vs    CTR']=stats_events['S-bAmy']-stats_events['S-COMMON']\n",
    "stats_events['CBNR20+'+'A'+r'$\\beta$'+'   vs   '+'A'+r'$\\beta$']=stats_events['S-CBNR20']-stats_events['S-COMMON']\n",
    "stats_events['Shared']=stats_events['S-COMMON']\n",
    "stats_events['Significant-Total']=stats_events['S-bAmy']+stats_events['S-CBNR20']-stats_events['S-COMMON']"
   ]
  },
  {
   "cell_type": "code",
   "execution_count": 12,
   "id": "e8eac3eb",
   "metadata": {},
   "outputs": [],
   "source": [
    "#ns_stats_events=stats_events[stats_events.columns[:4]].reset_index()\n",
    "s_stats_events=stats_events[stats_events.columns[10:-1]].reset_index()"
   ]
  },
  {
   "cell_type": "code",
   "execution_count": 13,
   "id": "39260708",
   "metadata": {},
   "outputs": [
    {
     "data": {
      "text/html": [
       "<div>\n",
       "<style scoped>\n",
       "    .dataframe tbody tr th:only-of-type {\n",
       "        vertical-align: middle;\n",
       "    }\n",
       "\n",
       "    .dataframe tbody tr th {\n",
       "        vertical-align: top;\n",
       "    }\n",
       "\n",
       "    .dataframe thead th {\n",
       "        text-align: right;\n",
       "    }\n",
       "</style>\n",
       "<table border=\"1\" class=\"dataframe\">\n",
       "  <thead>\n",
       "    <tr style=\"text-align: right;\">\n",
       "      <th></th>\n",
       "      <th>ASE</th>\n",
       "      <th>A$\\beta$   vs    CTR</th>\n",
       "      <th>CBNR20+A$\\beta$   vs   A$\\beta$</th>\n",
       "      <th>Shared</th>\n",
       "    </tr>\n",
       "  </thead>\n",
       "  <tbody>\n",
       "    <tr>\n",
       "      <th>0</th>\n",
       "      <td>A3SS</td>\n",
       "      <td>29.0</td>\n",
       "      <td>20.0</td>\n",
       "      <td>3.0</td>\n",
       "    </tr>\n",
       "    <tr>\n",
       "      <th>1</th>\n",
       "      <td>A5SS</td>\n",
       "      <td>12.0</td>\n",
       "      <td>15.0</td>\n",
       "      <td>3.0</td>\n",
       "    </tr>\n",
       "    <tr>\n",
       "      <th>2</th>\n",
       "      <td>SE</td>\n",
       "      <td>21.0</td>\n",
       "      <td>19.0</td>\n",
       "      <td>4.0</td>\n",
       "    </tr>\n",
       "    <tr>\n",
       "      <th>3</th>\n",
       "      <td>MXE</td>\n",
       "      <td>7.0</td>\n",
       "      <td>2.0</td>\n",
       "      <td>0.0</td>\n",
       "    </tr>\n",
       "    <tr>\n",
       "      <th>4</th>\n",
       "      <td>RI</td>\n",
       "      <td>12.0</td>\n",
       "      <td>14.0</td>\n",
       "      <td>4.0</td>\n",
       "    </tr>\n",
       "  </tbody>\n",
       "</table>\n",
       "</div>"
      ],
      "text/plain": [
       "    ASE  A$\\beta$   vs    CTR  CBNR20+A$\\beta$   vs   A$\\beta$  Shared\n",
       "0  A3SS                  29.0                             20.0     3.0\n",
       "1  A5SS                  12.0                             15.0     3.0\n",
       "2    SE                  21.0                             19.0     4.0\n",
       "3   MXE                   7.0                              2.0     0.0\n",
       "4    RI                  12.0                             14.0     4.0"
      ]
     },
     "execution_count": 13,
     "metadata": {},
     "output_type": "execute_result"
    }
   ],
   "source": [
    "s_stats_events"
   ]
  },
  {
   "cell_type": "code",
   "execution_count": 14,
   "id": "ab3fb03f",
   "metadata": {},
   "outputs": [],
   "source": [
    "import seaborn as sns\n",
    "import matplotlib.pyplot as plt"
   ]
  },
  {
   "cell_type": "code",
   "execution_count": 15,
   "id": "9b5a8194",
   "metadata": {},
   "outputs": [
    {
     "data": {
      "text/html": [
       "<div>\n",
       "<style scoped>\n",
       "    .dataframe tbody tr th:only-of-type {\n",
       "        vertical-align: middle;\n",
       "    }\n",
       "\n",
       "    .dataframe tbody tr th {\n",
       "        vertical-align: top;\n",
       "    }\n",
       "\n",
       "    .dataframe thead th {\n",
       "        text-align: right;\n",
       "    }\n",
       "</style>\n",
       "<table border=\"1\" class=\"dataframe\">\n",
       "  <thead>\n",
       "    <tr style=\"text-align: right;\">\n",
       "      <th></th>\n",
       "      <th>ASE</th>\n",
       "      <th>Comparison</th>\n",
       "      <th>Count</th>\n",
       "    </tr>\n",
       "  </thead>\n",
       "  <tbody>\n",
       "    <tr>\n",
       "      <th>0</th>\n",
       "      <td>A3SS</td>\n",
       "      <td>A$\\beta$   vs    CTR</td>\n",
       "      <td>29.0</td>\n",
       "    </tr>\n",
       "    <tr>\n",
       "      <th>1</th>\n",
       "      <td>A5SS</td>\n",
       "      <td>A$\\beta$   vs    CTR</td>\n",
       "      <td>12.0</td>\n",
       "    </tr>\n",
       "    <tr>\n",
       "      <th>2</th>\n",
       "      <td>SE</td>\n",
       "      <td>A$\\beta$   vs    CTR</td>\n",
       "      <td>21.0</td>\n",
       "    </tr>\n",
       "    <tr>\n",
       "      <th>3</th>\n",
       "      <td>MXE</td>\n",
       "      <td>A$\\beta$   vs    CTR</td>\n",
       "      <td>7.0</td>\n",
       "    </tr>\n",
       "    <tr>\n",
       "      <th>4</th>\n",
       "      <td>RI</td>\n",
       "      <td>A$\\beta$   vs    CTR</td>\n",
       "      <td>12.0</td>\n",
       "    </tr>\n",
       "    <tr>\n",
       "      <th>5</th>\n",
       "      <td>A3SS</td>\n",
       "      <td>CBNR20+A$\\beta$   vs   A$\\beta$</td>\n",
       "      <td>20.0</td>\n",
       "    </tr>\n",
       "    <tr>\n",
       "      <th>6</th>\n",
       "      <td>A5SS</td>\n",
       "      <td>CBNR20+A$\\beta$   vs   A$\\beta$</td>\n",
       "      <td>15.0</td>\n",
       "    </tr>\n",
       "    <tr>\n",
       "      <th>7</th>\n",
       "      <td>SE</td>\n",
       "      <td>CBNR20+A$\\beta$   vs   A$\\beta$</td>\n",
       "      <td>19.0</td>\n",
       "    </tr>\n",
       "    <tr>\n",
       "      <th>8</th>\n",
       "      <td>MXE</td>\n",
       "      <td>CBNR20+A$\\beta$   vs   A$\\beta$</td>\n",
       "      <td>2.0</td>\n",
       "    </tr>\n",
       "    <tr>\n",
       "      <th>9</th>\n",
       "      <td>RI</td>\n",
       "      <td>CBNR20+A$\\beta$   vs   A$\\beta$</td>\n",
       "      <td>14.0</td>\n",
       "    </tr>\n",
       "    <tr>\n",
       "      <th>10</th>\n",
       "      <td>A3SS</td>\n",
       "      <td>Shared</td>\n",
       "      <td>3.0</td>\n",
       "    </tr>\n",
       "    <tr>\n",
       "      <th>11</th>\n",
       "      <td>A5SS</td>\n",
       "      <td>Shared</td>\n",
       "      <td>3.0</td>\n",
       "    </tr>\n",
       "    <tr>\n",
       "      <th>12</th>\n",
       "      <td>SE</td>\n",
       "      <td>Shared</td>\n",
       "      <td>4.0</td>\n",
       "    </tr>\n",
       "    <tr>\n",
       "      <th>13</th>\n",
       "      <td>MXE</td>\n",
       "      <td>Shared</td>\n",
       "      <td>0.0</td>\n",
       "    </tr>\n",
       "    <tr>\n",
       "      <th>14</th>\n",
       "      <td>RI</td>\n",
       "      <td>Shared</td>\n",
       "      <td>4.0</td>\n",
       "    </tr>\n",
       "  </tbody>\n",
       "</table>\n",
       "</div>"
      ],
      "text/plain": [
       "     ASE                       Comparison  Count\n",
       "0   A3SS             A$\\beta$   vs    CTR   29.0\n",
       "1   A5SS             A$\\beta$   vs    CTR   12.0\n",
       "2     SE             A$\\beta$   vs    CTR   21.0\n",
       "3    MXE             A$\\beta$   vs    CTR    7.0\n",
       "4     RI             A$\\beta$   vs    CTR   12.0\n",
       "5   A3SS  CBNR20+A$\\beta$   vs   A$\\beta$   20.0\n",
       "6   A5SS  CBNR20+A$\\beta$   vs   A$\\beta$   15.0\n",
       "7     SE  CBNR20+A$\\beta$   vs   A$\\beta$   19.0\n",
       "8    MXE  CBNR20+A$\\beta$   vs   A$\\beta$    2.0\n",
       "9     RI  CBNR20+A$\\beta$   vs   A$\\beta$   14.0\n",
       "10  A3SS                           Shared    3.0\n",
       "11  A5SS                           Shared    3.0\n",
       "12    SE                           Shared    4.0\n",
       "13   MXE                           Shared    0.0\n",
       "14    RI                           Shared    4.0"
      ]
     },
     "execution_count": 15,
     "metadata": {},
     "output_type": "execute_result"
    }
   ],
   "source": [
    "#ns_df_melted = pd.melt(ns_stats_events, id_vars=['ID'], var_name='Comparison', value_name='Count')\n",
    "s_df_melted = pd.melt(s_stats_events, id_vars=['ASE'], var_name='Comparison', value_name='Count')\n",
    "s_df_melted "
   ]
  },
  {
   "cell_type": "code",
   "execution_count": 16,
   "id": "83077d47",
   "metadata": {},
   "outputs": [
    {
     "data": {
      "image/png": "[encoded data removed]",
      "text/plain": [
       "<Figure size 720x432 with 1 Axes>"
      ]
     },
     "metadata": {
      "needs_background": "light"
     },
     "output_type": "display_data"
    }
   ],
   "source": [
    "# Plotting\n",
    "plt.figure(figsize=(10, 6))\n",
    "sns.barplot(data=s_df_melted, x='ASE', y='Count', hue='Comparison')\n",
    "plt.xticks(rotation=45)  # Rotate x-axis labels if necessary\n",
    "plt.title('Significant ASE count')\n",
    "plt.xlabel('ASE')\n",
    "plt.ylabel('Count')\n",
    "plt.legend(title='Comparison')\n",
    "# Save the plot\n",
    "plt.savefig('Significant_denovo_ASE_count.png', dpi=300)  # Save as PNG with 300 dpi\n",
    "plt.show()"
   ]
  },
  {
   "cell_type": "code",
   "execution_count": null,
   "id": "982fbaee",
   "metadata": {},
   "outputs": [],
   "source": []
  }
 ],
 "metadata": {
  "kernelspec": {
   "display_name": "Python 3 (ipykernel)",
   "language": "python",
   "name": "python3"
  },
  "language_info": {
   "codemirror_mode": {
    "name": "ipython",
    "version": 3
   },
   "file_extension": ".py",
   "mimetype": "text/x-python",
   "name": "python",
   "nbconvert_exporter": "python",
   "pygments_lexer": "ipython3",
   "version": "3.9.12"
  }
 },
 "nbformat": 4,
 "nbformat_minor": 5
}
